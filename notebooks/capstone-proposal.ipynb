{
 "cells": [
  {
   "cell_type": "markdown",
   "metadata": {},
   "source": [
    "# Machine Learning Engineer Nanodegree\n",
    "## Capstone Proposal\n",
    "Felipe Santos\n",
    "\n",
    "October 4th, 2018"
   ]
  },
  {
   "cell_type": "markdown",
   "metadata": {},
   "source": [
    "## Proposal\n",
    "\n",
    "My proposal to the capstone project is beating the benchmark in the Tradeshift Text Classification on Kaggle Competition, in this competition, the machine learning engineer has to classify text blocks in documents to certain labels, being a multiclass classification problem with tabular data. This competition started on 10/02/2014 and ended on 11/10/2014 and today is anfeatured competition.\n",
    "\n",
    "\n",
    "### Domain Background\n",
    "\"Optical character recognition (also optical character reader, OCR) is the mechanical or electronic conversion of images of typed, handwritten or printed text into machine-encoded text, whether from a scanned document, a photo of a document, a scene-photo\" [1]. This method is used as an entry method so the document became more easily stored, compact and searched. But the process only does some dummy translate from image to text so text classification algorithms come to give us information about this unstructured format and transform from document retrieval to knowledge discovery [2]. The need of automatically retrieval of useful knowledge from the huge amount of textual data in order to assist the human analysis is fully apparent [3].\n",
    "\n",
    "Tradeshift competition is about predicted the probability that a piece of text belongs to a given class. The dataset was created from thousands of documents, representing millions of words. In each document, several bounding boxes with text inside are selected and features are extracted from this texts and labels are assigned. For the text extraction process is used OCR (optical character recognition) and the supervised machine learning method is used to gain information and classify the text, the dataset is previously performed the OCR text extraction process and the features are already extracted.I want to learn about this project to gains insights into a future project of my own that have some similarities with this competition."
   ]
  },
  {
   "cell_type": "markdown",
   "metadata": {},
   "source": [
    "### Problem Statement\n",
    "_(approx. 1 paragraph)_\n",
    "\n",
    "In this section, clearly describe the problem that is to be solved. The problem described should be well defined and should have at least one relevant potential solution. Additionally, describe the problem thoroughly such that it is clear that the problem is quantifiable (the problem can be expressed in mathematical or logical terms) , measurable (the problem can be measured by some metric and clearly observed), and replicable (the problem can be reproduced and occurs more than once)."
   ]
  },
  {
   "cell_type": "markdown",
   "metadata": {},
   "source": [
    "### References\n",
    "* [1] - https://en.wikipedia.org/wiki/Optical_character_recognition\n",
    "* [2] - http://ccis2k.org/iajit/PDF/vol.5,no.1/3-37.pdf - Zakaria Elberrichi, Abdelattif Rahmoun, and Mohamed Amine Bentaalah - Using WordNet for Text Categorization - The International Arab Journal of Information Technology, Vol. 5, No. 1, January 2008\n",
    "* [3] - http://odur.let.rug.nl/vannoord/TextCat/textcat.pdf - William B. Cavnar and John M. Trenkle - N-Gram-Based Text Categorization - Environmental Research Institute of Michigan\n",
    "* [4] - http://www.ijaiem.org/Volume2Issue3/IJAIEM-2013-03-13-025.pdf - Bhumika, Prof Sukhjit Singh Sehra, Prof Anand Nayyar - A REVIEW PAPER ON ALGORITHMS USED FOR TEXT CLASSIFICATION - International Journal of Application or Innovation in Engineering & Management (IJAIEM) - Volume 2, Issue 3, March 2013\n",
    "* [5] - https://www.researchgate.net/publication/319688772_Using_text_mining_to_classify_research_papers - Sulova, Snezhana & Todoranova, Latinka & Penchev, Bonimir & Nacheva, Radka. (2017). Using text mining to classify research papers. 10.5593/SGEM2017/21/S07.083. \n",
    "* [6] - https://www.researchgate.net/publication/280609521_Text_Classification_of_Technical_Papers_Based_on_Text_Segmentation - Nguyen, Thien & Shirai, Kiyoaki. (2013). Text Classification of Technical Papers Based on Text Segmentation. 10.1007/978-3-642-38824-8_25. \n",
    "* [7] - https://blog.tradeshift.com/hundreds-compete-to-improve-machine-learning-algorithm-for-5k-prize/ "
   ]
  },
  {
   "cell_type": "code",
   "execution_count": null,
   "metadata": {},
   "outputs": [],
   "source": []
  }
 ],
 "metadata": {
  "kernelspec": {
   "display_name": "Python 3",
   "language": "python",
   "name": "python3"
  },
  "language_info": {
   "codemirror_mode": {
    "name": "ipython",
    "version": 3
   },
   "file_extension": ".py",
   "mimetype": "text/x-python",
   "name": "python",
   "nbconvert_exporter": "python",
   "pygments_lexer": "ipython3",
   "version": "3.6.3"
  }
 },
 "nbformat": 4,
 "nbformat_minor": 2
}
