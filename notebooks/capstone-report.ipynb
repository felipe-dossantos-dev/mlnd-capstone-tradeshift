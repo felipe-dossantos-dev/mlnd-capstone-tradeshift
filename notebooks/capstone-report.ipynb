{
 "cells": [
  {
   "cell_type": "markdown",
   "metadata": {},
   "source": [
    "# Machine Learning Engineer Nanodegree\n",
    "## Capstone Project\n",
    "Felipe Santos  \n",
    "October 23th, 2018"
   ]
  },
  {
   "cell_type": "markdown",
   "metadata": {},
   "source": [
    "## I. Definition"
   ]
  },
  {
   "cell_type": "markdown",
   "metadata": {},
   "source": [
    "### Project Overview\n",
    "\n",
    "Optical character recognition (OCR) is the process to transform text images to text in a computer format, giving us information in an unstructured way, so is necessary to classify this data to gain knowledge about them and to have better document retrieval. The Tradeshift company make on that foundation a machine learning based product to classify the text blocks in a document to dates, address, and names to enrich the data of the OCR process. This organization resolves to host a competition on Kaggle, a data science platform, opening their data for community try to beat their machine learning model to this classification problem. The competition and the dataset can be access through this [link](https://www.kaggle.com/c/tradeshift-text-classification) and is available to the Kaggle community who intends to beat their benchmark like me."
   ]
  },
  {
   "cell_type": "markdown",
   "metadata": {},
   "source": [
    "### Problem Statement\n",
    "\n",
    "In this competition, we have to create a supervised machine learning algorithm to predict the possibility for a block of text being from a particular label, however, the block can have multiple labels. For all the documents, words are detected and combined to form text blocks that may overlap to each other. Each text block is enclosed within a spatial box, which is depicted by a red line in the sketch below. The text blocks from all documents are aggregated in a data set where each text block corresponds to one sample (row). The text is inputted by the OCR and the host organization gives us some features like the hashed content of the text, position, and size of the box, if the text can be parsed as a date, as a number and include information about the surrounds text blocks in the original document. The final classifier is intended to beat the benchmark of the Tradeshift organization, some tasks involved to reach that goal are:\n",
    "\n",
    "- Download and preprocess the Tradeshift dataset;\n",
    "- Do some feature engineering;\n",
    "- Train different classifiers;\n",
    "- Tuning the hyperparameters of the algorithm;\n",
    "- Beat the benchmark."
   ]
  },
  {
   "cell_type": "markdown",
   "metadata": {},
   "source": [
    "### Metrics\n",
    "\n",
    "The evaluation metric chosen by the organizers for this competition was the negative logarithm of the likelihood function averaged over Nt test samples and K labels. As shown by the following equation a + b =c.\n",
    "On the equation:"
   ]
  },
  {
   "cell_type": "markdown",
   "metadata": {},
   "source": [
    "$$\\textrm{LogLoss} = \\frac{1}{N_{t} \\cdot K} \\sum_{idx=1}^{N_{t} \\cdot K} \\textrm{LogLoss}_{idx}$$\n",
    "$$= \\frac{1}{N_{t} \\cdot K} \\sum_{idx=1}^{N_{t} \\cdot K} \\left[ - y_{idx} \\log(\\hat{y}_{idx}) - (1 - y_{idx}) \\log(1 - \\hat{y}_{idx})\\right]$$\n",
    "$$= \\frac{1}{N_{t} \\cdot K} \\sum_{i=1}^{N_{t}} \\sum_{j=1}^K \\left[ - y_{ij} \\log(\\hat{y}_{ij}) - (1 - y_{ij}) \\log(1 - \\hat{y}_{ij})\\right]$$"
   ]
  },
  {
   "cell_type": "markdown",
   "metadata": {},
   "source": [
    "- $f$ is the prediction model\n",
    "- $\\theta$ is the parameter of the model\n",
    "- $\\hat{y}_{ij}$ is the predicted probability of the jth-label is true for the ith-sample\n",
    "- $log$ represents the natural logarithm\n",
    "- $idx = (i - 1) * K + j$\n",
    "\n",
    "This function penalizes probabilities that are confident and wrong, in the worst case, prediction of true(1) for a false label (0) add infinity to the LogLoss function as $-log(0) = \\infty$, which makes a total score infinity regardless of the others scores.\n",
    "\n",
    "This metric is also symmetric in the sense than predicting 0.1 for a false (0) sample has the same penalty as predicting 0.9 for a positive sample (1). The value is bounded between zero and infinity, i.e. $\\textrm{LogLoss} \\in [0, \\infty)$. The competition corresponds to a minimization problem where smaller metric values, $\\textrm{LogLoss} \\sim 0$, implies better prediction models. To avoid complication with infinity values the predictions are bounded to within the range $[10^{-15},1-10^{-15}]$"
   ]
  },
  {
   "cell_type": "markdown",
   "metadata": {},
   "source": [
    "#### Example\n",
    "This is an example from the competition\n",
    "If the 'answer' file is:\n",
    "``` csv\n",
    "id_label,pred\n",
    "1_y1,1.0000\n",
    "1_y2,0.0000\n",
    "1_y3,0.0000\n",
    "1_y4,0.0000\n",
    "2_y1,0.0000\n",
    "2_y2,1.0000\n",
    "2_y3,0.0000\n",
    "2_y4,1.0000\n",
    "3_y1,0.0000\n",
    "3_y2,0.0000\n",
    "3_y3,1.0000\n",
    "3_y4,0.0000\n",
    "\n",
    "```\n",
    "\n",
    "And the submission file is:\n",
    "``` csv\n",
    "id_label,pred\n",
    "1_y1,0.9000\n",
    "1_y2,0.1000\n",
    "1_y3,0.0000\n",
    "1_y4,0.3000\n",
    "2_y1,0.0300\n",
    "2_y2,0.7000\n",
    "2_y3,0.2000\n",
    "2_y4,0.8500\n",
    "3_y1,0.1900\n",
    "3_y2,0.0000\n",
    "3_y3,1.0000\n",
    "3_y4,0.2700\n",
    "\n",
    "``` \n",
    "the score is 0.1555 as shown by:"
   ]
  },
  {
   "cell_type": "markdown",
   "metadata": {},
   "source": [
    "$$L = - \\frac{1}{12} \\left [ log(0.9) + log(1-0.1) + log(1-0.0) +log(1-0.3) + log(1-0.03) + log(0.7) + log(1-0.2) + log(0.85) + log(1-0.19)  + log(1-0.0) + log(1.0) +log(1-0.27) \\right ] = 0.1555$$"
   ]
  },
  {
   "cell_type": "code",
   "execution_count": null,
   "metadata": {},
   "outputs": [],
   "source": []
  }
 ],
 "metadata": {
  "kernelspec": {
   "display_name": "Python 3",
   "language": "python",
   "name": "python3"
  },
  "language_info": {
   "codemirror_mode": {
    "name": "ipython",
    "version": 3
   },
   "file_extension": ".py",
   "mimetype": "text/x-python",
   "name": "python",
   "nbconvert_exporter": "python",
   "pygments_lexer": "ipython3",
   "version": "3.6.3"
  }
 },
 "nbformat": 4,
 "nbformat_minor": 2
}
